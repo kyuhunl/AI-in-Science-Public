{
 "cells": [
  {
   "cell_type": "code",
   "execution_count": 2,
   "metadata": {},
   "outputs": [
    {
     "name": "stdout",
     "output_type": "stream",
     "text": [
      "Intel MKL WARNING: Support of Intel(R) Streaming SIMD Extensions 4.2 (Intel(R) SSE4.2) enabled only processors has been deprecated. Intel oneAPI Math Kernel Library 2025.0 will require Intel(R) Advanced Vector Extensions (Intel(R) AVX) instructions.\n",
      "Intel MKL WARNING: Support of Intel(R) Streaming SIMD Extensions 4.2 (Intel(R) SSE4.2) enabled only processors has been deprecated. Intel oneAPI Math Kernel Library 2025.0 will require Intel(R) Advanced Vector Extensions (Intel(R) AVX) instructions.\n"
     ]
    }
   ],
   "source": [
    "import pandas as pd"
   ]
  },
  {
   "cell_type": "code",
   "execution_count": 2,
   "metadata": {},
   "outputs": [],
   "source": [
    "s2orc = pd.read_csv('metadata.csv')"
   ]
  },
  {
   "cell_type": "code",
   "execution_count": 3,
   "metadata": {},
   "outputs": [],
   "source": [
    "s2orc = s2orc[['corpusid','externalids']]"
   ]
  },
  {
   "cell_type": "code",
   "execution_count": null,
   "metadata": {},
   "outputs": [],
   "source": [
    "worklist = pd.DataFrame(columns=['id','ids'])\n",
    "for i in range(512):\n",
    "    df = pd.read_parquet(f'/Volumes/Samsung_T5/OpenAlex_Works/author_publications_{i}.parquet')\n",
    "    worklist = pd.concat([worklist, df[['id','ids']]])\n",
    "    print(i)"
   ]
  },
  {
   "cell_type": "code",
   "execution_count": 5,
   "metadata": {},
   "outputs": [
    {
     "data": {
      "text/html": [
       "<div>\n",
       "<style scoped>\n",
       "    .dataframe tbody tr th:only-of-type {\n",
       "        vertical-align: middle;\n",
       "    }\n",
       "\n",
       "    .dataframe tbody tr th {\n",
       "        vertical-align: top;\n",
       "    }\n",
       "\n",
       "    .dataframe thead th {\n",
       "        text-align: right;\n",
       "    }\n",
       "</style>\n",
       "<table border=\"1\" class=\"dataframe\">\n",
       "  <thead>\n",
       "    <tr style=\"text-align: right;\">\n",
       "      <th></th>\n",
       "      <th>id</th>\n",
       "      <th>ids</th>\n",
       "    </tr>\n",
       "  </thead>\n",
       "  <tbody>\n",
       "    <tr>\n",
       "      <th>0</th>\n",
       "      <td>https://openalex.org/W2256016639</td>\n",
       "      <td>b'{\"openalex\":\"https://openalex.org/W225601663...</td>\n",
       "    </tr>\n",
       "    <tr>\n",
       "      <th>1</th>\n",
       "      <td>https://openalex.org/W2097950056</td>\n",
       "      <td>b'{\"openalex\":\"https://openalex.org/W209795005...</td>\n",
       "    </tr>\n",
       "    <tr>\n",
       "      <th>2</th>\n",
       "      <td>https://openalex.org/W2112334970</td>\n",
       "      <td>b'{\"openalex\":\"https://openalex.org/W211233497...</td>\n",
       "    </tr>\n",
       "    <tr>\n",
       "      <th>3</th>\n",
       "      <td>https://openalex.org/W2909678677</td>\n",
       "      <td>b'{\"openalex\":\"https://openalex.org/W290967867...</td>\n",
       "    </tr>\n",
       "    <tr>\n",
       "      <th>4</th>\n",
       "      <td>https://openalex.org/W2115830594</td>\n",
       "      <td>b'{\"openalex\":\"https://openalex.org/W211583059...</td>\n",
       "    </tr>\n",
       "    <tr>\n",
       "      <th>...</th>\n",
       "      <td>...</td>\n",
       "      <td>...</td>\n",
       "    </tr>\n",
       "    <tr>\n",
       "      <th>18</th>\n",
       "      <td>https://openalex.org/W228938503</td>\n",
       "      <td>b'{\"openalex\":\"https://openalex.org/W228938503...</td>\n",
       "    </tr>\n",
       "    <tr>\n",
       "      <th>19</th>\n",
       "      <td>https://openalex.org/W2321136164</td>\n",
       "      <td>b'{\"openalex\":\"https://openalex.org/W232113616...</td>\n",
       "    </tr>\n",
       "    <tr>\n",
       "      <th>20</th>\n",
       "      <td>https://openalex.org/W346116916</td>\n",
       "      <td>b'{\"openalex\":\"https://openalex.org/W346116916...</td>\n",
       "    </tr>\n",
       "    <tr>\n",
       "      <th>21</th>\n",
       "      <td>https://openalex.org/W4235189785</td>\n",
       "      <td>b'{\"openalex\":\"https://openalex.org/W423518978...</td>\n",
       "    </tr>\n",
       "    <tr>\n",
       "      <th>22</th>\n",
       "      <td>https://openalex.org/W569987972</td>\n",
       "      <td>b'{\"openalex\":\"https://openalex.org/W569987972...</td>\n",
       "    </tr>\n",
       "  </tbody>\n",
       "</table>\n",
       "<p>4760445 rows × 2 columns</p>\n",
       "</div>"
      ],
      "text/plain": [
       "                                  id  \\\n",
       "0   https://openalex.org/W2256016639   \n",
       "1   https://openalex.org/W2097950056   \n",
       "2   https://openalex.org/W2112334970   \n",
       "3   https://openalex.org/W2909678677   \n",
       "4   https://openalex.org/W2115830594   \n",
       "..                               ...   \n",
       "18   https://openalex.org/W228938503   \n",
       "19  https://openalex.org/W2321136164   \n",
       "20   https://openalex.org/W346116916   \n",
       "21  https://openalex.org/W4235189785   \n",
       "22   https://openalex.org/W569987972   \n",
       "\n",
       "                                                  ids  \n",
       "0   b'{\"openalex\":\"https://openalex.org/W225601663...  \n",
       "1   b'{\"openalex\":\"https://openalex.org/W209795005...  \n",
       "2   b'{\"openalex\":\"https://openalex.org/W211233497...  \n",
       "3   b'{\"openalex\":\"https://openalex.org/W290967867...  \n",
       "4   b'{\"openalex\":\"https://openalex.org/W211583059...  \n",
       "..                                                ...  \n",
       "18  b'{\"openalex\":\"https://openalex.org/W228938503...  \n",
       "19  b'{\"openalex\":\"https://openalex.org/W232113616...  \n",
       "20  b'{\"openalex\":\"https://openalex.org/W346116916...  \n",
       "21  b'{\"openalex\":\"https://openalex.org/W423518978...  \n",
       "22  b'{\"openalex\":\"https://openalex.org/W569987972...  \n",
       "\n",
       "[4760445 rows x 2 columns]"
      ]
     },
     "execution_count": 5,
     "metadata": {},
     "output_type": "execute_result"
    }
   ],
   "source": [
    "worklist"
   ]
  },
  {
   "cell_type": "code",
   "execution_count": 11,
   "metadata": {},
   "outputs": [],
   "source": [
    "worklist.drop_duplicates(subset='id', inplace=True)"
   ]
  },
  {
   "cell_type": "code",
   "execution_count": 14,
   "metadata": {},
   "outputs": [],
   "source": [
    "worklist.to_parquet('/Volumes/Samsung_T5/OpenAlex_Works/worklist.parquet')"
   ]
  },
  {
   "cell_type": "code",
   "execution_count": 4,
   "metadata": {},
   "outputs": [],
   "source": [
    "worklist = pd.read_parquet('/Volumes/Samsung_T5/OpenAlex_Works/worklist.parquet')"
   ]
  },
  {
   "cell_type": "code",
   "execution_count": 6,
   "metadata": {},
   "outputs": [],
   "source": [
    "worklist['ids'] = worklist['ids'].apply(lambda x: eval(x))"
   ]
  },
  {
   "cell_type": "code",
   "execution_count": 7,
   "metadata": {},
   "outputs": [],
   "source": [
    "def clean_ids(x):\n",
    "    if 'doi' in x:\n",
    "        x['doi'] = x['doi'].replace('https://doi.org/','')\n",
    "    if 'pmid' in x:\n",
    "        x['pmid'] = x['pmid'].replace('https://pubmed.ncbi.nlm.nih.gov/','')\n",
    "        x['pubmed'] = x.pop('pmid')\n",
    "    if 'pmcid' in x:\n",
    "        x['pmcid'] = x['pmcid'].replace('https://www.ncbi.nlm.nih.gov/pmc/articles/','')\n",
    "        x['pubmedcentral'] = x.pop('pmcid')\n",
    "    return x"
   ]
  },
  {
   "cell_type": "code",
   "execution_count": 8,
   "metadata": {},
   "outputs": [],
   "source": [
    "worklist['ids'] = worklist['ids'].apply(lambda x: clean_ids(x))"
   ]
  },
  {
   "cell_type": "code",
   "execution_count": 9,
   "metadata": {},
   "outputs": [],
   "source": [
    "worklist['doi'] = worklist['ids'].apply(lambda x: x['doi'] if 'doi' in x else None)\n",
    "worklist['pubmed'] = worklist['ids'].apply(lambda x: x['pubmed'] if 'pubmed' in x else None)\n",
    "worklist['pubmedcentral'] = worklist['ids'].apply(lambda x: x['pubmedcentral'] if 'pubmedcentral' in x else None)\n",
    "worklist['mag'] = worklist['ids'].apply(lambda x: x['mag'] if 'mag' in x else None)"
   ]
  },
  {
   "cell_type": "code",
   "execution_count": 10,
   "metadata": {},
   "outputs": [],
   "source": [
    "s2orc['externalids'] = s2orc['externalids'].apply(lambda x: eval(x) if pd.notnull(x) else x)"
   ]
  },
  {
   "cell_type": "code",
   "execution_count": 11,
   "metadata": {},
   "outputs": [],
   "source": [
    "#doi, mag, pmid, pmcid\n",
    "s2orc['doi'] = s2orc['externalids'].apply(lambda x: x['doi'] if pd.notnull(x) else None)\n",
    "s2orc['pubmed'] = s2orc['externalids'].apply(lambda x: x['pubmed'] if pd.notnull(x) else None)\n",
    "s2orc['pubmedcentral'] = s2orc['externalids'].apply(lambda x: x['pubmedcentral'] if pd.notnull(x) else None)\n",
    "s2orc['mag'] = s2orc['externalids'].apply(lambda x: x['mag'] if pd.notnull(x) else None)"
   ]
  },
  {
   "cell_type": "code",
   "execution_count": 14,
   "metadata": {},
   "outputs": [],
   "source": [
    "worklist = worklist[['id','doi','pubmed','pubmedcentral','mag']]\n",
    "s2orc = s2orc[['corpusid','doi','pubmed','pubmedcentral','mag']]"
   ]
  },
  {
   "cell_type": "code",
   "execution_count": 16,
   "metadata": {},
   "outputs": [],
   "source": [
    "worklist.to_parquet('/Volumes/Samsung_T5/OpenAlex_Works/worklist.parquet')\n",
    "s2orc.to_parquet('/Volumes/Samsung_T5/OpenAlex_Works/s2orc.parquet')"
   ]
  },
  {
   "cell_type": "code",
   "execution_count": 4,
   "metadata": {},
   "outputs": [],
   "source": [
    "worklist = pd.read_parquet('/Volumes/Samsung_T5/OpenAlex_Works/worklist.parquet')\n",
    "s2orc = pd.read_parquet('/Volumes/Samsung_T5/OpenAlex_Works/s2orc.parquet')"
   ]
  },
  {
   "cell_type": "code",
   "execution_count": 12,
   "metadata": {},
   "outputs": [
    {
     "data": {
      "text/plain": [
       "id               https://openalex.org/W2000159406\n",
       "doi                            10.1007/bf02705918\n",
       "pubmed                                       None\n",
       "pubmedcentral                                None\n",
       "mag                                    2000159406\n",
       "Name: 14, dtype: object"
      ]
     },
     "execution_count": 12,
     "metadata": {},
     "output_type": "execute_result"
    }
   ],
   "source": [
    "worklist.iloc[3718543]"
   ]
  },
  {
   "cell_type": "code",
   "execution_count": 5,
   "metadata": {},
   "outputs": [],
   "source": [
    "s2orc.to_csv('/Volumes/Samsung_T5/OpenAlex_Works/s2orc.csv')"
   ]
  },
  {
   "cell_type": "code",
   "execution_count": 15,
   "metadata": {},
   "outputs": [
    {
     "data": {
      "text/html": [
       "<div>\n",
       "<style scoped>\n",
       "    .dataframe tbody tr th:only-of-type {\n",
       "        vertical-align: middle;\n",
       "    }\n",
       "\n",
       "    .dataframe tbody tr th {\n",
       "        vertical-align: top;\n",
       "    }\n",
       "\n",
       "    .dataframe thead th {\n",
       "        text-align: right;\n",
       "    }\n",
       "</style>\n",
       "<table border=\"1\" class=\"dataframe\">\n",
       "  <thead>\n",
       "    <tr style=\"text-align: right;\">\n",
       "      <th></th>\n",
       "      <th>id</th>\n",
       "      <th>doi</th>\n",
       "      <th>pubmed</th>\n",
       "      <th>pubmedcentral</th>\n",
       "      <th>mag</th>\n",
       "    </tr>\n",
       "  </thead>\n",
       "  <tbody>\n",
       "    <tr>\n",
       "      <th>0</th>\n",
       "      <td>https://openalex.org/W2256016639</td>\n",
       "      <td>10.1038/nature19057</td>\n",
       "      <td>27535533</td>\n",
       "      <td>5018207</td>\n",
       "      <td>2256016639</td>\n",
       "    </tr>\n",
       "    <tr>\n",
       "      <th>1</th>\n",
       "      <td>https://openalex.org/W2097950056</td>\n",
       "      <td>10.1016/s0140-6736(12)61689-4</td>\n",
       "      <td>23245608</td>\n",
       "      <td>None</td>\n",
       "      <td>2097950056</td>\n",
       "    </tr>\n",
       "    <tr>\n",
       "      <th>2</th>\n",
       "      <td>https://openalex.org/W2112334970</td>\n",
       "      <td>10.1016/s0140-6736(96)07492-2</td>\n",
       "      <td>9167458</td>\n",
       "      <td>None</td>\n",
       "      <td>2112334970</td>\n",
       "    </tr>\n",
       "    <tr>\n",
       "      <th>3</th>\n",
       "      <td>https://openalex.org/W2909678677</td>\n",
       "      <td>10.1016/s0140-6736(18)31788-4</td>\n",
       "      <td>30660336</td>\n",
       "      <td>None</td>\n",
       "      <td>2909678677</td>\n",
       "    </tr>\n",
       "    <tr>\n",
       "      <th>4</th>\n",
       "      <td>https://openalex.org/W2115830594</td>\n",
       "      <td>10.1016/s0140-6736(06)68770-9</td>\n",
       "      <td>16731270</td>\n",
       "      <td>None</td>\n",
       "      <td>2115830594</td>\n",
       "    </tr>\n",
       "    <tr>\n",
       "      <th>...</th>\n",
       "      <td>...</td>\n",
       "      <td>...</td>\n",
       "      <td>...</td>\n",
       "      <td>...</td>\n",
       "      <td>...</td>\n",
       "    </tr>\n",
       "    <tr>\n",
       "      <th>18</th>\n",
       "      <td>https://openalex.org/W228938503</td>\n",
       "      <td>None</td>\n",
       "      <td>None</td>\n",
       "      <td>None</td>\n",
       "      <td>228938503</td>\n",
       "    </tr>\n",
       "    <tr>\n",
       "      <th>19</th>\n",
       "      <td>https://openalex.org/W2321136164</td>\n",
       "      <td>10.2307/2080562</td>\n",
       "      <td>None</td>\n",
       "      <td>None</td>\n",
       "      <td>2321136164</td>\n",
       "    </tr>\n",
       "    <tr>\n",
       "      <th>20</th>\n",
       "      <td>https://openalex.org/W346116916</td>\n",
       "      <td>None</td>\n",
       "      <td>None</td>\n",
       "      <td>None</td>\n",
       "      <td>346116916</td>\n",
       "    </tr>\n",
       "    <tr>\n",
       "      <th>21</th>\n",
       "      <td>https://openalex.org/W4235189785</td>\n",
       "      <td>10.2307/3236118</td>\n",
       "      <td>None</td>\n",
       "      <td>None</td>\n",
       "      <td>None</td>\n",
       "    </tr>\n",
       "    <tr>\n",
       "      <th>22</th>\n",
       "      <td>https://openalex.org/W569987972</td>\n",
       "      <td>None</td>\n",
       "      <td>None</td>\n",
       "      <td>None</td>\n",
       "      <td>569987972</td>\n",
       "    </tr>\n",
       "  </tbody>\n",
       "</table>\n",
       "<p>4760445 rows × 5 columns</p>\n",
       "</div>"
      ],
      "text/plain": [
       "                                  id                            doi    pubmed  \\\n",
       "0   https://openalex.org/W2256016639            10.1038/nature19057  27535533   \n",
       "1   https://openalex.org/W2097950056  10.1016/s0140-6736(12)61689-4  23245608   \n",
       "2   https://openalex.org/W2112334970  10.1016/s0140-6736(96)07492-2   9167458   \n",
       "3   https://openalex.org/W2909678677  10.1016/s0140-6736(18)31788-4  30660336   \n",
       "4   https://openalex.org/W2115830594  10.1016/s0140-6736(06)68770-9  16731270   \n",
       "..                               ...                            ...       ...   \n",
       "18   https://openalex.org/W228938503                           None      None   \n",
       "19  https://openalex.org/W2321136164                10.2307/2080562      None   \n",
       "20   https://openalex.org/W346116916                           None      None   \n",
       "21  https://openalex.org/W4235189785                10.2307/3236118      None   \n",
       "22   https://openalex.org/W569987972                           None      None   \n",
       "\n",
       "   pubmedcentral         mag  \n",
       "0        5018207  2256016639  \n",
       "1           None  2097950056  \n",
       "2           None  2112334970  \n",
       "3           None  2909678677  \n",
       "4           None  2115830594  \n",
       "..           ...         ...  \n",
       "18          None   228938503  \n",
       "19          None  2321136164  \n",
       "20          None   346116916  \n",
       "21          None        None  \n",
       "22          None   569987972  \n",
       "\n",
       "[4760445 rows x 5 columns]"
      ]
     },
     "execution_count": 15,
     "metadata": {},
     "output_type": "execute_result"
    }
   ],
   "source": [
    "worklist"
   ]
  },
  {
   "cell_type": "code",
   "execution_count": 8,
   "metadata": {},
   "outputs": [],
   "source": [
    "s2orc['corpusid'] = s2orc['corpusid'].astype(str)"
   ]
  },
  {
   "cell_type": "code",
   "execution_count": 10,
   "metadata": {},
   "outputs": [
    {
     "ename": "",
     "evalue": "",
     "output_type": "error",
     "traceback": [
      "\u001b[1;31mThe Kernel crashed while executing code in the current cell or a previous cell. \n",
      "\u001b[1;31mPlease review the code in the cell(s) to identify a possible cause of the failure. \n",
      "\u001b[1;31mClick <a href='https://aka.ms/vscodeJupyterKernelCrash'>here</a> for more info. \n",
      "\u001b[1;31mView Jupyter <a href='command:jupyter.viewOutput'>log</a> for further details."
     ]
    }
   ],
   "source": [
    "chunks = [s2orc[i:i+5000] for i in range(0,s2orc.shape[0],5000)]\n",
    "worklist_doimatch = pd.DataFrame(columns=['id','corpusid'])\n",
    "for chunk in chunks:\n",
    "    worklist_doimatch = pd.concat([worklist_doimatch, worklist[['id','doi']].merge(chunk[['corpusid','doi']], how='inner', on='doi')[['id','corpusid']]])\n",
    "worklist_doimatch.to_parquet('/Volumes/Samsung_T5/OpenAlex_Works/worklist_doimatch.parquet')\n",
    "match_ids = worklist_doimatch['id'].unique()\n",
    "worklist = worklist[~worklist['id'].isin(match_ids)]\n",
    "worklist_magmatch = pd.DataFrame(columns=['id','corpusid'])\n",
    "for chunk in chunks:\n",
    "    worklist_magmatch = pd.concat([worklist_magmatch, worklist[['id','mag']].merge(chunk[['corpusid','mag']], how='inner', on='mag')[['id','corpusid']]])\n",
    "worklist_magmatch.to_parquet('/Volumes/Samsung_T5/OpenAlex_Works/worklist_magmatch.parquet')\n",
    "match_ids = worklist_magmatch['id'].unique()\n",
    "worklist = worklist[~worklist['id'].isin(match_ids)]\n",
    "worklist_pubmedmatch = pd.DataFrame(columns=['id','corpusid'])\n",
    "for chunk in chunks:\n",
    "    worklist_pubmedmatch = pd.concat([worklist_pubmedmatch, worklist[['id','pubmed']].merge(chunk[['corpusid','pubmed']], how='inner', on='pubmed')[['id','corpusid']]])\n",
    "worklist_pubmedmatch.to_parquet('/Volumes/Samsung_T5/OpenAlex_Works/worklist_pubmedmatch.parquet')\n",
    "match_ids = worklist_pubmedmatch['id'].unique()\n",
    "worklist = worklist[~worklist['id'].isin(match_ids)]\n",
    "worklist_pubmedcentralmatch = pd.DataFrame(columns=['id','corpusid'])\n",
    "for chunk in chunks:\n",
    "    worklist_pubmedcentralmatch = pd.concat([worklist_pubmedcentralmatch, worklist[['id','pubmedcentral']].merge(chunk[['corpusid','pubmedcentral']], how='inner', on='pubmedcentral')[['id','corpusid']]])\n",
    "worklist_pubmedcentralmatch.to_parquet('/Volumes/Samsung_T5/OpenAlex_Works/worklist_pubmedcentralmatch.parquet')\n",
    "openalex_s2orc = pd.concat([worklist_doimatch, worklist_magmatch, worklist_pubmedmatch, worklist_pubmedcentralmatch])\n",
    "openalex_s2orc.to_parquet('/Volumes/Samsung_T5/OpenAlex_Works/openalex_s2orc.parquet')"
   ]
  },
  {
   "cell_type": "code",
   "execution_count": 17,
   "metadata": {},
   "outputs": [
    {
     "ename": "",
     "evalue": "",
     "output_type": "error",
     "traceback": [
      "\u001b[1;31mThe Kernel crashed while executing code in the current cell or a previous cell. \n",
      "\u001b[1;31mPlease review the code in the cell(s) to identify a possible cause of the failure. \n",
      "\u001b[1;31mClick <a href='https://aka.ms/vscodeJupyterKernelCrash'>here</a> for more info. \n",
      "\u001b[1;31mView Jupyter <a href='command:jupyter.viewOutput'>log</a> for further details."
     ]
    }
   ],
   "source": [
    "worklist_doimatch = worklist[['id','doi']].merge(s2orc[['corpusid','doi']], on='doi', how='inner')"
   ]
  },
  {
   "cell_type": "code",
   "execution_count": 9,
   "metadata": {},
   "outputs": [
    {
     "data": {
      "text/html": [
       "<div>\n",
       "<style scoped>\n",
       "    .dataframe tbody tr th:only-of-type {\n",
       "        vertical-align: middle;\n",
       "    }\n",
       "\n",
       "    .dataframe tbody tr th {\n",
       "        vertical-align: top;\n",
       "    }\n",
       "\n",
       "    .dataframe thead th {\n",
       "        text-align: right;\n",
       "    }\n",
       "</style>\n",
       "<table border=\"1\" class=\"dataframe\">\n",
       "  <thead>\n",
       "    <tr style=\"text-align: right;\">\n",
       "      <th></th>\n",
       "      <th>id</th>\n",
       "      <th>doi</th>\n",
       "      <th>corpusid</th>\n",
       "    </tr>\n",
       "  </thead>\n",
       "  <tbody>\n",
       "    <tr>\n",
       "      <th>0</th>\n",
       "      <td>https://openalex.org/W2256016639</td>\n",
       "      <td>10.1038/nature19057</td>\n",
       "      <td>NaN</td>\n",
       "    </tr>\n",
       "    <tr>\n",
       "      <th>1</th>\n",
       "      <td>https://openalex.org/W2097950056</td>\n",
       "      <td>10.1016/s0140-6736(12)61689-4</td>\n",
       "      <td>NaN</td>\n",
       "    </tr>\n",
       "    <tr>\n",
       "      <th>2</th>\n",
       "      <td>https://openalex.org/W2112334970</td>\n",
       "      <td>10.1016/s0140-6736(96)07492-2</td>\n",
       "      <td>NaN</td>\n",
       "    </tr>\n",
       "    <tr>\n",
       "      <th>3</th>\n",
       "      <td>https://openalex.org/W2909678677</td>\n",
       "      <td>10.1016/s0140-6736(18)31788-4</td>\n",
       "      <td>NaN</td>\n",
       "    </tr>\n",
       "    <tr>\n",
       "      <th>4</th>\n",
       "      <td>https://openalex.org/W2115830594</td>\n",
       "      <td>10.1016/s0140-6736(06)68770-9</td>\n",
       "      <td>NaN</td>\n",
       "    </tr>\n",
       "    <tr>\n",
       "      <th>...</th>\n",
       "      <td>...</td>\n",
       "      <td>...</td>\n",
       "      <td>...</td>\n",
       "    </tr>\n",
       "    <tr>\n",
       "      <th>441089230</th>\n",
       "      <td>https://openalex.org/W569987972</td>\n",
       "      <td>None</td>\n",
       "      <td>259076449</td>\n",
       "    </tr>\n",
       "    <tr>\n",
       "      <th>441089231</th>\n",
       "      <td>https://openalex.org/W569987972</td>\n",
       "      <td>None</td>\n",
       "      <td>243832595</td>\n",
       "    </tr>\n",
       "    <tr>\n",
       "      <th>441089232</th>\n",
       "      <td>https://openalex.org/W569987972</td>\n",
       "      <td>None</td>\n",
       "      <td>34293107</td>\n",
       "    </tr>\n",
       "    <tr>\n",
       "      <th>441089233</th>\n",
       "      <td>https://openalex.org/W569987972</td>\n",
       "      <td>None</td>\n",
       "      <td>250073019</td>\n",
       "    </tr>\n",
       "    <tr>\n",
       "      <th>441089234</th>\n",
       "      <td>https://openalex.org/W569987972</td>\n",
       "      <td>None</td>\n",
       "      <td>232197864</td>\n",
       "    </tr>\n",
       "  </tbody>\n",
       "</table>\n",
       "<p>441089235 rows × 3 columns</p>\n",
       "</div>"
      ],
      "text/plain": [
       "                                         id                            doi  \\\n",
       "0          https://openalex.org/W2256016639            10.1038/nature19057   \n",
       "1          https://openalex.org/W2097950056  10.1016/s0140-6736(12)61689-4   \n",
       "2          https://openalex.org/W2112334970  10.1016/s0140-6736(96)07492-2   \n",
       "3          https://openalex.org/W2909678677  10.1016/s0140-6736(18)31788-4   \n",
       "4          https://openalex.org/W2115830594  10.1016/s0140-6736(06)68770-9   \n",
       "...                                     ...                            ...   \n",
       "441089230   https://openalex.org/W569987972                           None   \n",
       "441089231   https://openalex.org/W569987972                           None   \n",
       "441089232   https://openalex.org/W569987972                           None   \n",
       "441089233   https://openalex.org/W569987972                           None   \n",
       "441089234   https://openalex.org/W569987972                           None   \n",
       "\n",
       "            corpusid  \n",
       "0                NaN  \n",
       "1                NaN  \n",
       "2                NaN  \n",
       "3                NaN  \n",
       "4                NaN  \n",
       "...              ...  \n",
       "441089230  259076449  \n",
       "441089231  243832595  \n",
       "441089232   34293107  \n",
       "441089233  250073019  \n",
       "441089234  232197864  \n",
       "\n",
       "[441089235 rows x 3 columns]"
      ]
     },
     "execution_count": 9,
     "metadata": {},
     "output_type": "execute_result"
    }
   ],
   "source": [
    "worklist[['id','doi']].merge(s2orc[:10000][['corpusid','doi']], on='doi', how='left')"
   ]
  },
  {
   "cell_type": "code",
   "execution_count": null,
   "metadata": {},
   "outputs": [],
   "source": []
  }
 ],
 "metadata": {
  "kernelspec": {
   "display_name": "Python 3",
   "language": "python",
   "name": "python3"
  },
  "language_info": {
   "codemirror_mode": {
    "name": "ipython",
    "version": 3
   },
   "file_extension": ".py",
   "mimetype": "text/x-python",
   "name": "python",
   "nbconvert_exporter": "python",
   "pygments_lexer": "ipython3",
   "version": "3.11.7"
  }
 },
 "nbformat": 4,
 "nbformat_minor": 2
}
